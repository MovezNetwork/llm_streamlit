{
 "cells": [
  {
   "cell_type": "code",
   "execution_count": 1,
   "metadata": {
    "ExecuteTime": {
     "end_time": "2024-09-03T11:32:40.301634Z",
     "start_time": "2024-09-03T11:32:11.974736Z"
    }
   },
   "outputs": [],
   "source": [
    "import pandas as pd\n",
    "import os\n",
    "import sys\n",
    "import inspect\n",
    "import chat_preprocess as cp\n",
    "# import production as p\n",
    "\n",
    "# access parent directory from notebooks directory\n",
    "currentdir = os.path.dirname(os.path.abspath(inspect.getfile(inspect.currentframe())))\n",
    "parentdir = os.path.dirname(currentdir)\n",
    "sys.path.insert(0, parentdir)\n",
    "%load_ext autoreload\n",
    "%autoreload 2\n",
    "%reload_ext autoreload"
   ]
  },
  {
   "cell_type": "markdown",
   "metadata": {},
   "source": [
    "### Processing the Between Us chat data"
   ]
  },
  {
   "cell_type": "code",
   "execution_count": 2,
   "metadata": {
    "ExecuteTime": {
     "end_time": "2024-09-02T15:10:23.023522Z",
     "start_time": "2024-09-02T15:10:21.979115Z"
    }
   },
   "outputs": [
    {
     "ename": "KeyError",
     "evalue": "'to'",
     "output_type": "error",
     "traceback": [
      "\u001B[0;31m---------------------------------------------------------------------------\u001B[0m",
      "\u001B[0;31mKeyError\u001B[0m                                  Traceback (most recent call last)",
      "Cell \u001B[0;32mIn[2], line 6\u001B[0m\n\u001B[1;32m      4\u001B[0m \u001B[38;5;66;03m# log_file = 'data/chat/input/docker.log.20240820_0.log'\u001B[39;00m\n\u001B[1;32m      5\u001B[0m log_file \u001B[38;5;241m=\u001B[39m \u001B[38;5;124m'\u001B[39m\u001B[38;5;124mdata/Buffer log.b61bd3e5a78a96e1b37b166e12e8051e6.log\u001B[39m\u001B[38;5;124m'\u001B[39m\n\u001B[0;32m----> 6\u001B[0m df_chats \u001B[38;5;241m=\u001B[39m \u001B[43mcp\u001B[49m\u001B[38;5;241;43m.\u001B[39;49m\u001B[43mparse_log_chats\u001B[49m\u001B[43m(\u001B[49m\u001B[43mlog_file\u001B[49m\u001B[43m)\u001B[49m\n\u001B[1;32m      7\u001B[0m df_chats\n",
      "File \u001B[0;32m~/Work EUR/GitHub/llm_streamlit/chat_preprocess.py:28\u001B[0m, in \u001B[0;36mparse_log_chats\u001B[0;34m(filename)\u001B[0m\n\u001B[1;32m     26\u001B[0m df_chats[\u001B[38;5;124m'\u001B[39m\u001B[38;5;124mcontent\u001B[39m\u001B[38;5;124m'\u001B[39m] \u001B[38;5;241m=\u001B[39m df_chats[\u001B[38;5;124m'\u001B[39m\u001B[38;5;124mmessage\u001B[39m\u001B[38;5;124m'\u001B[39m]\u001B[38;5;241m.\u001B[39mapply(\u001B[38;5;28;01mlambda\u001B[39;00m x: json\u001B[38;5;241m.\u001B[39mloads(json\u001B[38;5;241m.\u001B[39mloads(x)[\u001B[38;5;124m'\u001B[39m\u001B[38;5;124mlog\u001B[39m\u001B[38;5;124m'\u001B[39m])[\u001B[38;5;124m'\u001B[39m\u001B[38;5;124mcontent\u001B[39m\u001B[38;5;124m'\u001B[39m])\n\u001B[1;32m     27\u001B[0m df_chats[\u001B[38;5;124m'\u001B[39m\u001B[38;5;124mfromUserId\u001B[39m\u001B[38;5;124m'\u001B[39m] \u001B[38;5;241m=\u001B[39m df_chats[\u001B[38;5;124m'\u001B[39m\u001B[38;5;124mmessage\u001B[39m\u001B[38;5;124m'\u001B[39m]\u001B[38;5;241m.\u001B[39mapply(\u001B[38;5;28;01mlambda\u001B[39;00m x: json\u001B[38;5;241m.\u001B[39mloads(json\u001B[38;5;241m.\u001B[39mloads(x)[\u001B[38;5;124m'\u001B[39m\u001B[38;5;124mlog\u001B[39m\u001B[38;5;124m'\u001B[39m])[\u001B[38;5;124m'\u001B[39m\u001B[38;5;124muserId\u001B[39m\u001B[38;5;124m'\u001B[39m])\n\u001B[0;32m---> 28\u001B[0m df_chats[\u001B[38;5;124m'\u001B[39m\u001B[38;5;124mtoUserId\u001B[39m\u001B[38;5;124m'\u001B[39m] \u001B[38;5;241m=\u001B[39m \u001B[43mdf_chats\u001B[49m\u001B[43m[\u001B[49m\u001B[38;5;124;43m'\u001B[39;49m\u001B[38;5;124;43mmessage\u001B[39;49m\u001B[38;5;124;43m'\u001B[39;49m\u001B[43m]\u001B[49m\u001B[38;5;241;43m.\u001B[39;49m\u001B[43mapply\u001B[49m\u001B[43m(\u001B[49m\u001B[38;5;28;43;01mlambda\u001B[39;49;00m\u001B[43m \u001B[49m\u001B[43mx\u001B[49m\u001B[43m:\u001B[49m\u001B[43m \u001B[49m\u001B[43mjson\u001B[49m\u001B[38;5;241;43m.\u001B[39;49m\u001B[43mloads\u001B[49m\u001B[43m(\u001B[49m\u001B[43mjson\u001B[49m\u001B[38;5;241;43m.\u001B[39;49m\u001B[43mloads\u001B[49m\u001B[43m(\u001B[49m\u001B[43mx\u001B[49m\u001B[43m)\u001B[49m\u001B[43m[\u001B[49m\u001B[38;5;124;43m'\u001B[39;49m\u001B[38;5;124;43mlog\u001B[39;49m\u001B[38;5;124;43m'\u001B[39;49m\u001B[43m]\u001B[49m\u001B[43m)\u001B[49m\u001B[43m[\u001B[49m\u001B[38;5;124;43m'\u001B[39;49m\u001B[38;5;124;43mto\u001B[39;49m\u001B[38;5;124;43m'\u001B[39;49m\u001B[43m]\u001B[49m\u001B[43m)\u001B[49m\n\u001B[1;32m     29\u001B[0m df_chats[\u001B[38;5;124m'\u001B[39m\u001B[38;5;124mtimestamp\u001B[39m\u001B[38;5;124m'\u001B[39m] \u001B[38;5;241m=\u001B[39m df_chats[\u001B[38;5;124m'\u001B[39m\u001B[38;5;124mmessage\u001B[39m\u001B[38;5;124m'\u001B[39m]\u001B[38;5;241m.\u001B[39mapply(\u001B[38;5;28;01mlambda\u001B[39;00m x: json\u001B[38;5;241m.\u001B[39mloads(json\u001B[38;5;241m.\u001B[39mloads(x)[\u001B[38;5;124m'\u001B[39m\u001B[38;5;124mlog\u001B[39m\u001B[38;5;124m'\u001B[39m])[\u001B[38;5;124m'\u001B[39m\u001B[38;5;124mtimestamp\u001B[39m\u001B[38;5;124m'\u001B[39m])\n\u001B[1;32m     30\u001B[0m df_chats[\u001B[38;5;124m'\u001B[39m\u001B[38;5;124msessionId\u001B[39m\u001B[38;5;124m'\u001B[39m] \u001B[38;5;241m=\u001B[39m df_chats[\u001B[38;5;124m'\u001B[39m\u001B[38;5;124mmessage\u001B[39m\u001B[38;5;124m'\u001B[39m]\u001B[38;5;241m.\u001B[39mapply(\u001B[38;5;28;01mlambda\u001B[39;00m x: json\u001B[38;5;241m.\u001B[39mloads(json\u001B[38;5;241m.\u001B[39mloads(x)[\u001B[38;5;124m'\u001B[39m\u001B[38;5;124mlog\u001B[39m\u001B[38;5;124m'\u001B[39m])[\u001B[38;5;124m'\u001B[39m\u001B[38;5;124msessionId\u001B[39m\u001B[38;5;124m'\u001B[39m])\n",
      "File \u001B[0;32m~/anaconda3/envs/IC2S2/lib/python3.11/site-packages/pandas/core/series.py:4924\u001B[0m, in \u001B[0;36mSeries.apply\u001B[0;34m(self, func, convert_dtype, args, by_row, **kwargs)\u001B[0m\n\u001B[1;32m   4789\u001B[0m \u001B[38;5;28;01mdef\u001B[39;00m \u001B[38;5;21mapply\u001B[39m(\n\u001B[1;32m   4790\u001B[0m     \u001B[38;5;28mself\u001B[39m,\n\u001B[1;32m   4791\u001B[0m     func: AggFuncType,\n\u001B[0;32m   (...)\u001B[0m\n\u001B[1;32m   4796\u001B[0m     \u001B[38;5;241m*\u001B[39m\u001B[38;5;241m*\u001B[39mkwargs,\n\u001B[1;32m   4797\u001B[0m ) \u001B[38;5;241m-\u001B[39m\u001B[38;5;241m>\u001B[39m DataFrame \u001B[38;5;241m|\u001B[39m Series:\n\u001B[1;32m   4798\u001B[0m \u001B[38;5;250m    \u001B[39m\u001B[38;5;124;03m\"\"\"\u001B[39;00m\n\u001B[1;32m   4799\u001B[0m \u001B[38;5;124;03m    Invoke function on values of Series.\u001B[39;00m\n\u001B[1;32m   4800\u001B[0m \n\u001B[0;32m   (...)\u001B[0m\n\u001B[1;32m   4915\u001B[0m \u001B[38;5;124;03m    dtype: float64\u001B[39;00m\n\u001B[1;32m   4916\u001B[0m \u001B[38;5;124;03m    \"\"\"\u001B[39;00m\n\u001B[1;32m   4917\u001B[0m     \u001B[38;5;28;01mreturn\u001B[39;00m \u001B[43mSeriesApply\u001B[49m\u001B[43m(\u001B[49m\n\u001B[1;32m   4918\u001B[0m \u001B[43m        \u001B[49m\u001B[38;5;28;43mself\u001B[39;49m\u001B[43m,\u001B[49m\n\u001B[1;32m   4919\u001B[0m \u001B[43m        \u001B[49m\u001B[43mfunc\u001B[49m\u001B[43m,\u001B[49m\n\u001B[1;32m   4920\u001B[0m \u001B[43m        \u001B[49m\u001B[43mconvert_dtype\u001B[49m\u001B[38;5;241;43m=\u001B[39;49m\u001B[43mconvert_dtype\u001B[49m\u001B[43m,\u001B[49m\n\u001B[1;32m   4921\u001B[0m \u001B[43m        \u001B[49m\u001B[43mby_row\u001B[49m\u001B[38;5;241;43m=\u001B[39;49m\u001B[43mby_row\u001B[49m\u001B[43m,\u001B[49m\n\u001B[1;32m   4922\u001B[0m \u001B[43m        \u001B[49m\u001B[43margs\u001B[49m\u001B[38;5;241;43m=\u001B[39;49m\u001B[43margs\u001B[49m\u001B[43m,\u001B[49m\n\u001B[1;32m   4923\u001B[0m \u001B[43m        \u001B[49m\u001B[43mkwargs\u001B[49m\u001B[38;5;241;43m=\u001B[39;49m\u001B[43mkwargs\u001B[49m\u001B[43m,\u001B[49m\n\u001B[0;32m-> 4924\u001B[0m \u001B[43m    \u001B[49m\u001B[43m)\u001B[49m\u001B[38;5;241;43m.\u001B[39;49m\u001B[43mapply\u001B[49m\u001B[43m(\u001B[49m\u001B[43m)\u001B[49m\n",
      "File \u001B[0;32m~/anaconda3/envs/IC2S2/lib/python3.11/site-packages/pandas/core/apply.py:1427\u001B[0m, in \u001B[0;36mSeriesApply.apply\u001B[0;34m(self)\u001B[0m\n\u001B[1;32m   1424\u001B[0m     \u001B[38;5;28;01mreturn\u001B[39;00m \u001B[38;5;28mself\u001B[39m\u001B[38;5;241m.\u001B[39mapply_compat()\n\u001B[1;32m   1426\u001B[0m \u001B[38;5;66;03m# self.func is Callable\u001B[39;00m\n\u001B[0;32m-> 1427\u001B[0m \u001B[38;5;28;01mreturn\u001B[39;00m \u001B[38;5;28;43mself\u001B[39;49m\u001B[38;5;241;43m.\u001B[39;49m\u001B[43mapply_standard\u001B[49m\u001B[43m(\u001B[49m\u001B[43m)\u001B[49m\n",
      "File \u001B[0;32m~/anaconda3/envs/IC2S2/lib/python3.11/site-packages/pandas/core/apply.py:1507\u001B[0m, in \u001B[0;36mSeriesApply.apply_standard\u001B[0;34m(self)\u001B[0m\n\u001B[1;32m   1501\u001B[0m \u001B[38;5;66;03m# row-wise access\u001B[39;00m\n\u001B[1;32m   1502\u001B[0m \u001B[38;5;66;03m# apply doesn't have a `na_action` keyword and for backward compat reasons\u001B[39;00m\n\u001B[1;32m   1503\u001B[0m \u001B[38;5;66;03m# we need to give `na_action=\"ignore\"` for categorical data.\u001B[39;00m\n\u001B[1;32m   1504\u001B[0m \u001B[38;5;66;03m# TODO: remove the `na_action=\"ignore\"` when that default has been changed in\u001B[39;00m\n\u001B[1;32m   1505\u001B[0m \u001B[38;5;66;03m#  Categorical (GH51645).\u001B[39;00m\n\u001B[1;32m   1506\u001B[0m action \u001B[38;5;241m=\u001B[39m \u001B[38;5;124m\"\u001B[39m\u001B[38;5;124mignore\u001B[39m\u001B[38;5;124m\"\u001B[39m \u001B[38;5;28;01mif\u001B[39;00m \u001B[38;5;28misinstance\u001B[39m(obj\u001B[38;5;241m.\u001B[39mdtype, CategoricalDtype) \u001B[38;5;28;01melse\u001B[39;00m \u001B[38;5;28;01mNone\u001B[39;00m\n\u001B[0;32m-> 1507\u001B[0m mapped \u001B[38;5;241m=\u001B[39m \u001B[43mobj\u001B[49m\u001B[38;5;241;43m.\u001B[39;49m\u001B[43m_map_values\u001B[49m\u001B[43m(\u001B[49m\n\u001B[1;32m   1508\u001B[0m \u001B[43m    \u001B[49m\u001B[43mmapper\u001B[49m\u001B[38;5;241;43m=\u001B[39;49m\u001B[43mcurried\u001B[49m\u001B[43m,\u001B[49m\u001B[43m \u001B[49m\u001B[43mna_action\u001B[49m\u001B[38;5;241;43m=\u001B[39;49m\u001B[43maction\u001B[49m\u001B[43m,\u001B[49m\u001B[43m \u001B[49m\u001B[43mconvert\u001B[49m\u001B[38;5;241;43m=\u001B[39;49m\u001B[38;5;28;43mself\u001B[39;49m\u001B[38;5;241;43m.\u001B[39;49m\u001B[43mconvert_dtype\u001B[49m\n\u001B[1;32m   1509\u001B[0m \u001B[43m\u001B[49m\u001B[43m)\u001B[49m\n\u001B[1;32m   1511\u001B[0m \u001B[38;5;28;01mif\u001B[39;00m \u001B[38;5;28mlen\u001B[39m(mapped) \u001B[38;5;129;01mand\u001B[39;00m \u001B[38;5;28misinstance\u001B[39m(mapped[\u001B[38;5;241m0\u001B[39m], ABCSeries):\n\u001B[1;32m   1512\u001B[0m     \u001B[38;5;66;03m# GH#43986 Need to do list(mapped) in order to get treated as nested\u001B[39;00m\n\u001B[1;32m   1513\u001B[0m     \u001B[38;5;66;03m#  See also GH#25959 regarding EA support\u001B[39;00m\n\u001B[1;32m   1514\u001B[0m     \u001B[38;5;28;01mreturn\u001B[39;00m obj\u001B[38;5;241m.\u001B[39m_constructor_expanddim(\u001B[38;5;28mlist\u001B[39m(mapped), index\u001B[38;5;241m=\u001B[39mobj\u001B[38;5;241m.\u001B[39mindex)\n",
      "File \u001B[0;32m~/anaconda3/envs/IC2S2/lib/python3.11/site-packages/pandas/core/base.py:921\u001B[0m, in \u001B[0;36mIndexOpsMixin._map_values\u001B[0;34m(self, mapper, na_action, convert)\u001B[0m\n\u001B[1;32m    918\u001B[0m \u001B[38;5;28;01mif\u001B[39;00m \u001B[38;5;28misinstance\u001B[39m(arr, ExtensionArray):\n\u001B[1;32m    919\u001B[0m     \u001B[38;5;28;01mreturn\u001B[39;00m arr\u001B[38;5;241m.\u001B[39mmap(mapper, na_action\u001B[38;5;241m=\u001B[39mna_action)\n\u001B[0;32m--> 921\u001B[0m \u001B[38;5;28;01mreturn\u001B[39;00m \u001B[43malgorithms\u001B[49m\u001B[38;5;241;43m.\u001B[39;49m\u001B[43mmap_array\u001B[49m\u001B[43m(\u001B[49m\u001B[43marr\u001B[49m\u001B[43m,\u001B[49m\u001B[43m \u001B[49m\u001B[43mmapper\u001B[49m\u001B[43m,\u001B[49m\u001B[43m \u001B[49m\u001B[43mna_action\u001B[49m\u001B[38;5;241;43m=\u001B[39;49m\u001B[43mna_action\u001B[49m\u001B[43m,\u001B[49m\u001B[43m \u001B[49m\u001B[43mconvert\u001B[49m\u001B[38;5;241;43m=\u001B[39;49m\u001B[43mconvert\u001B[49m\u001B[43m)\u001B[49m\n",
      "File \u001B[0;32m~/anaconda3/envs/IC2S2/lib/python3.11/site-packages/pandas/core/algorithms.py:1743\u001B[0m, in \u001B[0;36mmap_array\u001B[0;34m(arr, mapper, na_action, convert)\u001B[0m\n\u001B[1;32m   1741\u001B[0m values \u001B[38;5;241m=\u001B[39m arr\u001B[38;5;241m.\u001B[39mastype(\u001B[38;5;28mobject\u001B[39m, copy\u001B[38;5;241m=\u001B[39m\u001B[38;5;28;01mFalse\u001B[39;00m)\n\u001B[1;32m   1742\u001B[0m \u001B[38;5;28;01mif\u001B[39;00m na_action \u001B[38;5;129;01mis\u001B[39;00m \u001B[38;5;28;01mNone\u001B[39;00m:\n\u001B[0;32m-> 1743\u001B[0m     \u001B[38;5;28;01mreturn\u001B[39;00m \u001B[43mlib\u001B[49m\u001B[38;5;241;43m.\u001B[39;49m\u001B[43mmap_infer\u001B[49m\u001B[43m(\u001B[49m\u001B[43mvalues\u001B[49m\u001B[43m,\u001B[49m\u001B[43m \u001B[49m\u001B[43mmapper\u001B[49m\u001B[43m,\u001B[49m\u001B[43m \u001B[49m\u001B[43mconvert\u001B[49m\u001B[38;5;241;43m=\u001B[39;49m\u001B[43mconvert\u001B[49m\u001B[43m)\u001B[49m\n\u001B[1;32m   1744\u001B[0m \u001B[38;5;28;01melse\u001B[39;00m:\n\u001B[1;32m   1745\u001B[0m     \u001B[38;5;28;01mreturn\u001B[39;00m lib\u001B[38;5;241m.\u001B[39mmap_infer_mask(\n\u001B[1;32m   1746\u001B[0m         values, mapper, mask\u001B[38;5;241m=\u001B[39misna(values)\u001B[38;5;241m.\u001B[39mview(np\u001B[38;5;241m.\u001B[39muint8), convert\u001B[38;5;241m=\u001B[39mconvert\n\u001B[1;32m   1747\u001B[0m     )\n",
      "File \u001B[0;32mlib.pyx:2972\u001B[0m, in \u001B[0;36mpandas._libs.lib.map_infer\u001B[0;34m()\u001B[0m\n",
      "File \u001B[0;32m~/Work EUR/GitHub/llm_streamlit/chat_preprocess.py:28\u001B[0m, in \u001B[0;36mparse_log_chats.<locals>.<lambda>\u001B[0;34m(x)\u001B[0m\n\u001B[1;32m     26\u001B[0m df_chats[\u001B[38;5;124m'\u001B[39m\u001B[38;5;124mcontent\u001B[39m\u001B[38;5;124m'\u001B[39m] \u001B[38;5;241m=\u001B[39m df_chats[\u001B[38;5;124m'\u001B[39m\u001B[38;5;124mmessage\u001B[39m\u001B[38;5;124m'\u001B[39m]\u001B[38;5;241m.\u001B[39mapply(\u001B[38;5;28;01mlambda\u001B[39;00m x: json\u001B[38;5;241m.\u001B[39mloads(json\u001B[38;5;241m.\u001B[39mloads(x)[\u001B[38;5;124m'\u001B[39m\u001B[38;5;124mlog\u001B[39m\u001B[38;5;124m'\u001B[39m])[\u001B[38;5;124m'\u001B[39m\u001B[38;5;124mcontent\u001B[39m\u001B[38;5;124m'\u001B[39m])\n\u001B[1;32m     27\u001B[0m df_chats[\u001B[38;5;124m'\u001B[39m\u001B[38;5;124mfromUserId\u001B[39m\u001B[38;5;124m'\u001B[39m] \u001B[38;5;241m=\u001B[39m df_chats[\u001B[38;5;124m'\u001B[39m\u001B[38;5;124mmessage\u001B[39m\u001B[38;5;124m'\u001B[39m]\u001B[38;5;241m.\u001B[39mapply(\u001B[38;5;28;01mlambda\u001B[39;00m x: json\u001B[38;5;241m.\u001B[39mloads(json\u001B[38;5;241m.\u001B[39mloads(x)[\u001B[38;5;124m'\u001B[39m\u001B[38;5;124mlog\u001B[39m\u001B[38;5;124m'\u001B[39m])[\u001B[38;5;124m'\u001B[39m\u001B[38;5;124muserId\u001B[39m\u001B[38;5;124m'\u001B[39m])\n\u001B[0;32m---> 28\u001B[0m df_chats[\u001B[38;5;124m'\u001B[39m\u001B[38;5;124mtoUserId\u001B[39m\u001B[38;5;124m'\u001B[39m] \u001B[38;5;241m=\u001B[39m df_chats[\u001B[38;5;124m'\u001B[39m\u001B[38;5;124mmessage\u001B[39m\u001B[38;5;124m'\u001B[39m]\u001B[38;5;241m.\u001B[39mapply(\u001B[38;5;28;01mlambda\u001B[39;00m x: \u001B[43mjson\u001B[49m\u001B[38;5;241;43m.\u001B[39;49m\u001B[43mloads\u001B[49m\u001B[43m(\u001B[49m\u001B[43mjson\u001B[49m\u001B[38;5;241;43m.\u001B[39;49m\u001B[43mloads\u001B[49m\u001B[43m(\u001B[49m\u001B[43mx\u001B[49m\u001B[43m)\u001B[49m\u001B[43m[\u001B[49m\u001B[38;5;124;43m'\u001B[39;49m\u001B[38;5;124;43mlog\u001B[39;49m\u001B[38;5;124;43m'\u001B[39;49m\u001B[43m]\u001B[49m\u001B[43m)\u001B[49m\u001B[43m[\u001B[49m\u001B[38;5;124;43m'\u001B[39;49m\u001B[38;5;124;43mto\u001B[39;49m\u001B[38;5;124;43m'\u001B[39;49m\u001B[43m]\u001B[49m)\n\u001B[1;32m     29\u001B[0m df_chats[\u001B[38;5;124m'\u001B[39m\u001B[38;5;124mtimestamp\u001B[39m\u001B[38;5;124m'\u001B[39m] \u001B[38;5;241m=\u001B[39m df_chats[\u001B[38;5;124m'\u001B[39m\u001B[38;5;124mmessage\u001B[39m\u001B[38;5;124m'\u001B[39m]\u001B[38;5;241m.\u001B[39mapply(\u001B[38;5;28;01mlambda\u001B[39;00m x: json\u001B[38;5;241m.\u001B[39mloads(json\u001B[38;5;241m.\u001B[39mloads(x)[\u001B[38;5;124m'\u001B[39m\u001B[38;5;124mlog\u001B[39m\u001B[38;5;124m'\u001B[39m])[\u001B[38;5;124m'\u001B[39m\u001B[38;5;124mtimestamp\u001B[39m\u001B[38;5;124m'\u001B[39m])\n\u001B[1;32m     30\u001B[0m df_chats[\u001B[38;5;124m'\u001B[39m\u001B[38;5;124msessionId\u001B[39m\u001B[38;5;124m'\u001B[39m] \u001B[38;5;241m=\u001B[39m df_chats[\u001B[38;5;124m'\u001B[39m\u001B[38;5;124mmessage\u001B[39m\u001B[38;5;124m'\u001B[39m]\u001B[38;5;241m.\u001B[39mapply(\u001B[38;5;28;01mlambda\u001B[39;00m x: json\u001B[38;5;241m.\u001B[39mloads(json\u001B[38;5;241m.\u001B[39mloads(x)[\u001B[38;5;124m'\u001B[39m\u001B[38;5;124mlog\u001B[39m\u001B[38;5;124m'\u001B[39m])[\u001B[38;5;124m'\u001B[39m\u001B[38;5;124msessionId\u001B[39m\u001B[38;5;124m'\u001B[39m])\n",
      "\u001B[0;31mKeyError\u001B[0m: 'to'"
     ]
    }
   ],
   "source": [
    "# Insert your docker log file here \n",
    "# wave_id should be a integer\n",
    "wave_id = 1\n",
    "# log_file = 'data/chat/input/docker.log.20240820_0.log'\n",
    "log_file = 'data/Buffer log.b61bd3e5a78a96e1b37b166e12e8051e6.log'\n",
    "df_chats = cp.parse_log_chats(log_file)\n",
    "df_chats\n",
    "\n"
   ]
  },
  {
   "cell_type": "code",
   "outputs": [
    {
     "data": {
      "text/plain": "                    timestamp log_level  \\\n0    2024-06-27T08:18:03.567Z    docker   \n1    2024-06-27T08:18:10.340Z    docker   \n2    2024-06-27T08:18:11.657Z    docker   \n3    2024-06-27T08:18:13.183Z    docker   \n4    2024-06-27T08:18:15.707Z    docker   \n..                        ...       ...   \n972  2024-06-28T09:55:20.069Z    docker   \n973  2024-06-28T09:55:20.069Z    docker   \n974  2024-06-28T09:55:26.917Z    docker   \n975  2024-06-28T09:55:26.917Z    docker   \n976  2024-06-28T09:55:26.918Z    docker   \n\n                                               message  \\\n0    {\"container_id\":\"04538756c9cc672ad707e82a4b1cf...   \n1    {\"container_id\":\"04538756c9cc672ad707e82a4b1cf...   \n2    {\"container_id\":\"04538756c9cc672ad707e82a4b1cf...   \n3    {\"container_id\":\"04538756c9cc672ad707e82a4b1cf...   \n4    {\"container_name\":\"/movez-chat-movez-chat-1\",\"...   \n..                                                 ...   \n972  {\"container_id\":\"8895013e2e9d3e00a535250c74749...   \n973  {\"container_id\":\"8895013e2e9d3e00a535250c74749...   \n974  {\"source\":\"stdout\",\"log\":\"{\\\"content\\\":\\\"that'...   \n975  {\"container_id\":\"8895013e2e9d3e00a535250c74749...   \n976  {\"log\":\"{\\\"content\\\":\\\"that's sweet\\\",\\\"fromUs...   \n\n                                          content        fromUserId  \\\n0                                              Hi  7881bdd5596a3f86   \n1                                      Hi sloth!   0475b4a5102ad017   \n2                                             Hi!  f256ae32bf85de79   \n3                                          Hello!  bf079e28c74b6404   \n4                        What sports do you like?  7881bdd5596a3f86   \n..                                            ...               ...   \n972  belief in yourself! your are not that bad!!!  0d526f8eb7177c76   \n973  belief in yourself! your are not that bad!!!  0d526f8eb7177c76   \n974                                  that's sweet  0a88167b60546b3a   \n975                                  that's sweet  0a88167b60546b3a   \n976                                  that's sweet  0a88167b60546b3a   \n\n             toUserId sessionId  word_count  messageID  \n0    f256ae32bf85de79      BU04           1          0  \n1    bf079e28c74b6404      BU02           2          0  \n2    7881bdd5596a3f86      BU03           1          0  \n3    0475b4a5102ad017      BU01           1          0  \n4    f256ae32bf85de79      BU04           5          1  \n..                ...       ...         ...        ...  \n972  4ed7d8e521bef3cd      BU08           8        114  \n973  0a88167b60546b3a      BU08           8        115  \n974  9b658ac45526e7be      BU06           2        199  \n975  0d526f8eb7177c76      BU06           2        200  \n976  4ed7d8e521bef3cd      BU06           2        201  \n\n[977 rows x 9 columns]",
      "text/html": "<div>\n<style scoped>\n    .dataframe tbody tr th:only-of-type {\n        vertical-align: middle;\n    }\n\n    .dataframe tbody tr th {\n        vertical-align: top;\n    }\n\n    .dataframe thead th {\n        text-align: right;\n    }\n</style>\n<table border=\"1\" class=\"dataframe\">\n  <thead>\n    <tr style=\"text-align: right;\">\n      <th></th>\n      <th>timestamp</th>\n      <th>log_level</th>\n      <th>message</th>\n      <th>content</th>\n      <th>fromUserId</th>\n      <th>toUserId</th>\n      <th>sessionId</th>\n      <th>word_count</th>\n      <th>messageID</th>\n    </tr>\n  </thead>\n  <tbody>\n    <tr>\n      <th>0</th>\n      <td>2024-06-27T08:18:03.567Z</td>\n      <td>docker</td>\n      <td>{\"container_id\":\"04538756c9cc672ad707e82a4b1cf...</td>\n      <td>Hi</td>\n      <td>7881bdd5596a3f86</td>\n      <td>f256ae32bf85de79</td>\n      <td>BU04</td>\n      <td>1</td>\n      <td>0</td>\n    </tr>\n    <tr>\n      <th>1</th>\n      <td>2024-06-27T08:18:10.340Z</td>\n      <td>docker</td>\n      <td>{\"container_id\":\"04538756c9cc672ad707e82a4b1cf...</td>\n      <td>Hi sloth!</td>\n      <td>0475b4a5102ad017</td>\n      <td>bf079e28c74b6404</td>\n      <td>BU02</td>\n      <td>2</td>\n      <td>0</td>\n    </tr>\n    <tr>\n      <th>2</th>\n      <td>2024-06-27T08:18:11.657Z</td>\n      <td>docker</td>\n      <td>{\"container_id\":\"04538756c9cc672ad707e82a4b1cf...</td>\n      <td>Hi!</td>\n      <td>f256ae32bf85de79</td>\n      <td>7881bdd5596a3f86</td>\n      <td>BU03</td>\n      <td>1</td>\n      <td>0</td>\n    </tr>\n    <tr>\n      <th>3</th>\n      <td>2024-06-27T08:18:13.183Z</td>\n      <td>docker</td>\n      <td>{\"container_id\":\"04538756c9cc672ad707e82a4b1cf...</td>\n      <td>Hello!</td>\n      <td>bf079e28c74b6404</td>\n      <td>0475b4a5102ad017</td>\n      <td>BU01</td>\n      <td>1</td>\n      <td>0</td>\n    </tr>\n    <tr>\n      <th>4</th>\n      <td>2024-06-27T08:18:15.707Z</td>\n      <td>docker</td>\n      <td>{\"container_name\":\"/movez-chat-movez-chat-1\",\"...</td>\n      <td>What sports do you like?</td>\n      <td>7881bdd5596a3f86</td>\n      <td>f256ae32bf85de79</td>\n      <td>BU04</td>\n      <td>5</td>\n      <td>1</td>\n    </tr>\n    <tr>\n      <th>...</th>\n      <td>...</td>\n      <td>...</td>\n      <td>...</td>\n      <td>...</td>\n      <td>...</td>\n      <td>...</td>\n      <td>...</td>\n      <td>...</td>\n      <td>...</td>\n    </tr>\n    <tr>\n      <th>972</th>\n      <td>2024-06-28T09:55:20.069Z</td>\n      <td>docker</td>\n      <td>{\"container_id\":\"8895013e2e9d3e00a535250c74749...</td>\n      <td>belief in yourself! your are not that bad!!!</td>\n      <td>0d526f8eb7177c76</td>\n      <td>4ed7d8e521bef3cd</td>\n      <td>BU08</td>\n      <td>8</td>\n      <td>114</td>\n    </tr>\n    <tr>\n      <th>973</th>\n      <td>2024-06-28T09:55:20.069Z</td>\n      <td>docker</td>\n      <td>{\"container_id\":\"8895013e2e9d3e00a535250c74749...</td>\n      <td>belief in yourself! your are not that bad!!!</td>\n      <td>0d526f8eb7177c76</td>\n      <td>0a88167b60546b3a</td>\n      <td>BU08</td>\n      <td>8</td>\n      <td>115</td>\n    </tr>\n    <tr>\n      <th>974</th>\n      <td>2024-06-28T09:55:26.917Z</td>\n      <td>docker</td>\n      <td>{\"source\":\"stdout\",\"log\":\"{\\\"content\\\":\\\"that'...</td>\n      <td>that's sweet</td>\n      <td>0a88167b60546b3a</td>\n      <td>9b658ac45526e7be</td>\n      <td>BU06</td>\n      <td>2</td>\n      <td>199</td>\n    </tr>\n    <tr>\n      <th>975</th>\n      <td>2024-06-28T09:55:26.917Z</td>\n      <td>docker</td>\n      <td>{\"container_id\":\"8895013e2e9d3e00a535250c74749...</td>\n      <td>that's sweet</td>\n      <td>0a88167b60546b3a</td>\n      <td>0d526f8eb7177c76</td>\n      <td>BU06</td>\n      <td>2</td>\n      <td>200</td>\n    </tr>\n    <tr>\n      <th>976</th>\n      <td>2024-06-28T09:55:26.918Z</td>\n      <td>docker</td>\n      <td>{\"log\":\"{\\\"content\\\":\\\"that's sweet\\\",\\\"fromUs...</td>\n      <td>that's sweet</td>\n      <td>0a88167b60546b3a</td>\n      <td>4ed7d8e521bef3cd</td>\n      <td>BU06</td>\n      <td>2</td>\n      <td>201</td>\n    </tr>\n  </tbody>\n</table>\n<p>977 rows × 9 columns</p>\n</div>"
     },
     "execution_count": 25,
     "metadata": {},
     "output_type": "execute_result"
    }
   ],
   "source": [
    "wave_id = 0\n",
    "# log_file = 'data/chat/input/docker.log.20240820_0.log'\n",
    "log_file = 'data/chat/input/Between Us Movez Data.csv'\n",
    "df_chats = pd.read_csv(log_file)\n",
    "df_chats['word_count'] = df_chats['content'].apply(lambda x: len(x.split()))\n",
    "# add messageID column to df_chats, first grouping the df_chats by sessionId and then adding a column with the index\n",
    "df_chats['messageID'] = df_chats.groupby('sessionId').cumcount()\n",
    "df_chats\n",
    "\n"
   ],
   "metadata": {
    "collapsed": false,
    "ExecuteTime": {
     "end_time": "2024-09-03T12:12:17.304436Z",
     "start_time": "2024-09-03T12:12:17.241185Z"
    }
   },
   "execution_count": 25
  },
  {
   "cell_type": "code",
   "execution_count": 26,
   "metadata": {
    "ExecuteTime": {
     "end_time": "2024-09-03T12:12:22.213481Z",
     "start_time": "2024-09-03T12:12:22.175190Z"
    }
   },
   "outputs": [
    {
     "data": {
      "text/plain": "sessionId\nBU06    202\nBU01    155\nBU02    140\nBU05    131\nBU08    116\nBU04    105\nBU03     65\nBU07     63\nName: count, dtype: int64"
     },
     "execution_count": 26,
     "metadata": {},
     "output_type": "execute_result"
    }
   ],
   "source": [
    "df_chats['sessionId'].value_counts()"
   ]
  },
  {
   "cell_type": "code",
   "execution_count": 27,
   "metadata": {
    "ExecuteTime": {
     "end_time": "2024-09-03T12:12:23.331532Z",
     "start_time": "2024-09-03T12:12:23.266906Z"
    }
   },
   "outputs": [
    {
     "data": {
      "text/plain": "                   timestamp log_level  \\\n4   2024-06-27T08:18:15.707Z    docker   \n5   2024-06-27T08:18:26.161Z    docker   \n6   2024-06-27T08:18:38.085Z    docker   \n9   2024-06-27T08:18:51.835Z    docker   \n10  2024-06-27T08:18:55.828Z    docker   \n\n                                              message  \\\n4   {\"container_name\":\"/movez-chat-movez-chat-1\",\"...   \n5   {\"source\":\"stdout\",\"log\":\"{\\\"content\\\":\\\"What ...   \n6   {\"container_name\":\"/movez-chat-movez-chat-1\",\"...   \n9   {\"source\":\"stdout\",\"log\":\"{\\\"content\\\":\\\"I'm n...   \n10  {\"container_name\":\"/movez-chat-movez-chat-1\",\"...   \n\n                                              content        fromUserId  \\\n4                            What sports do you like?  7881bdd5596a3f86   \n5                      What sports do you like to do?  bf079e28c74b6404   \n6       I like doing some gym, and taking long walks.  f256ae32bf85de79   \n9   I'm not so good at ball sports, but I still en...  0475b4a5102ad017   \n10     I like team sports like football or basketball  7881bdd5596a3f86   \n\n            toUserId sessionId  word_count  messageID  \n4   f256ae32bf85de79      BU04           5          1  \n5   0475b4a5102ad017      BU01           7          1  \n6   7881bdd5596a3f86      BU03           9          1  \n9   bf079e28c74b6404      BU02          12          2  \n10  f256ae32bf85de79      BU04           8          2  ",
      "text/html": "<div>\n<style scoped>\n    .dataframe tbody tr th:only-of-type {\n        vertical-align: middle;\n    }\n\n    .dataframe tbody tr th {\n        vertical-align: top;\n    }\n\n    .dataframe thead th {\n        text-align: right;\n    }\n</style>\n<table border=\"1\" class=\"dataframe\">\n  <thead>\n    <tr style=\"text-align: right;\">\n      <th></th>\n      <th>timestamp</th>\n      <th>log_level</th>\n      <th>message</th>\n      <th>content</th>\n      <th>fromUserId</th>\n      <th>toUserId</th>\n      <th>sessionId</th>\n      <th>word_count</th>\n      <th>messageID</th>\n    </tr>\n  </thead>\n  <tbody>\n    <tr>\n      <th>4</th>\n      <td>2024-06-27T08:18:15.707Z</td>\n      <td>docker</td>\n      <td>{\"container_name\":\"/movez-chat-movez-chat-1\",\"...</td>\n      <td>What sports do you like?</td>\n      <td>7881bdd5596a3f86</td>\n      <td>f256ae32bf85de79</td>\n      <td>BU04</td>\n      <td>5</td>\n      <td>1</td>\n    </tr>\n    <tr>\n      <th>5</th>\n      <td>2024-06-27T08:18:26.161Z</td>\n      <td>docker</td>\n      <td>{\"source\":\"stdout\",\"log\":\"{\\\"content\\\":\\\"What ...</td>\n      <td>What sports do you like to do?</td>\n      <td>bf079e28c74b6404</td>\n      <td>0475b4a5102ad017</td>\n      <td>BU01</td>\n      <td>7</td>\n      <td>1</td>\n    </tr>\n    <tr>\n      <th>6</th>\n      <td>2024-06-27T08:18:38.085Z</td>\n      <td>docker</td>\n      <td>{\"container_name\":\"/movez-chat-movez-chat-1\",\"...</td>\n      <td>I like doing some gym, and taking long walks.</td>\n      <td>f256ae32bf85de79</td>\n      <td>7881bdd5596a3f86</td>\n      <td>BU03</td>\n      <td>9</td>\n      <td>1</td>\n    </tr>\n    <tr>\n      <th>9</th>\n      <td>2024-06-27T08:18:51.835Z</td>\n      <td>docker</td>\n      <td>{\"source\":\"stdout\",\"log\":\"{\\\"content\\\":\\\"I'm n...</td>\n      <td>I'm not so good at ball sports, but I still en...</td>\n      <td>0475b4a5102ad017</td>\n      <td>bf079e28c74b6404</td>\n      <td>BU02</td>\n      <td>12</td>\n      <td>2</td>\n    </tr>\n    <tr>\n      <th>10</th>\n      <td>2024-06-27T08:18:55.828Z</td>\n      <td>docker</td>\n      <td>{\"container_name\":\"/movez-chat-movez-chat-1\",\"...</td>\n      <td>I like team sports like football or basketball</td>\n      <td>7881bdd5596a3f86</td>\n      <td>f256ae32bf85de79</td>\n      <td>BU04</td>\n      <td>8</td>\n      <td>2</td>\n    </tr>\n  </tbody>\n</table>\n</div>"
     },
     "execution_count": 27,
     "metadata": {},
     "output_type": "execute_result"
    }
   ],
   "source": [
    "df_chats_processed = cp.postprocess_and_save_text(df_chats,wave_id)\n",
    "df_chats_processed.head(5)"
   ]
  },
  {
   "cell_type": "code",
   "execution_count": 28,
   "metadata": {
    "ExecuteTime": {
     "end_time": "2024-09-03T12:12:24.265078Z",
     "start_time": "2024-09-03T12:12:24.219768Z"
    }
   },
   "outputs": [
    {
     "data": {
      "text/plain": "((977, 9), (419, 9))"
     },
     "execution_count": 28,
     "metadata": {},
     "output_type": "execute_result"
    }
   ],
   "source": [
    "df_chats.shape,df_chats_processed.shape"
   ]
  },
  {
   "cell_type": "code",
   "execution_count": 29,
   "metadata": {
    "ExecuteTime": {
     "end_time": "2024-09-03T12:12:25.445267Z",
     "start_time": "2024-09-03T12:12:25.408386Z"
    }
   },
   "outputs": [
    {
     "data": {
      "text/plain": "sessionId\nBU06    79\nBU01    75\nBU02    59\nBU05    55\nBU04    51\nBU08    47\nBU07    27\nBU03    26\nName: count, dtype: int64"
     },
     "execution_count": 29,
     "metadata": {},
     "output_type": "execute_result"
    }
   ],
   "source": [
    "df_chats_processed['sessionId'].value_counts()"
   ]
  },
  {
   "cell_type": "markdown",
   "metadata": {},
   "source": [
    "### Creating Parallel Data"
   ]
  },
  {
   "cell_type": "code",
   "execution_count": 30,
   "metadata": {
    "ExecuteTime": {
     "end_time": "2024-09-03T12:12:29.422912Z",
     "start_time": "2024-09-03T12:12:29.375256Z"
    }
   },
   "outputs": [
    {
     "data": {
      "text/plain": "   Unnamed: 0  messageID                 timestamp  \\\n0           0          0  2024-06-27T08:18:15.707Z   \n1           1          1  2024-06-27T08:18:26.161Z   \n2           2          2  2024-06-27T08:18:38.085Z   \n\n                                        original  \\\n0                       What sports do you like?   \n1                 What sports do you like to do?   \n2  I like doing some gym, and taking long walks.   \n\n                                              output              model  \\\n0  {\\n  \"rewrittenSentence\": \"Which sports do you...  gpt-4o-2024-05-13   \n1  {\\n    \"rewrittenSentence\": \"Which sports do y...  gpt-4o-2024-05-13   \n2  {\\n  \"rewrittenSentence\": \"I enjoy exercising ...  gpt-4o-2024-05-13   \n\n   prompt_tokens  completion_tokens           object  promptID  \n0            106                 15  chat.completion       111  \n1            108                 15  chat.completion       111  \n2            111                 20  chat.completion       111  ",
      "text/html": "<div>\n<style scoped>\n    .dataframe tbody tr th:only-of-type {\n        vertical-align: middle;\n    }\n\n    .dataframe tbody tr th {\n        vertical-align: top;\n    }\n\n    .dataframe thead th {\n        text-align: right;\n    }\n</style>\n<table border=\"1\" class=\"dataframe\">\n  <thead>\n    <tr style=\"text-align: right;\">\n      <th></th>\n      <th>Unnamed: 0</th>\n      <th>messageID</th>\n      <th>timestamp</th>\n      <th>original</th>\n      <th>output</th>\n      <th>model</th>\n      <th>prompt_tokens</th>\n      <th>completion_tokens</th>\n      <th>object</th>\n      <th>promptID</th>\n    </tr>\n  </thead>\n  <tbody>\n    <tr>\n      <th>0</th>\n      <td>0</td>\n      <td>0</td>\n      <td>2024-06-27T08:18:15.707Z</td>\n      <td>What sports do you like?</td>\n      <td>{\\n  \"rewrittenSentence\": \"Which sports do you...</td>\n      <td>gpt-4o-2024-05-13</td>\n      <td>106</td>\n      <td>15</td>\n      <td>chat.completion</td>\n      <td>111</td>\n    </tr>\n    <tr>\n      <th>1</th>\n      <td>1</td>\n      <td>1</td>\n      <td>2024-06-27T08:18:26.161Z</td>\n      <td>What sports do you like to do?</td>\n      <td>{\\n    \"rewrittenSentence\": \"Which sports do y...</td>\n      <td>gpt-4o-2024-05-13</td>\n      <td>108</td>\n      <td>15</td>\n      <td>chat.completion</td>\n      <td>111</td>\n    </tr>\n    <tr>\n      <th>2</th>\n      <td>2</td>\n      <td>2</td>\n      <td>2024-06-27T08:18:38.085Z</td>\n      <td>I like doing some gym, and taking long walks.</td>\n      <td>{\\n  \"rewrittenSentence\": \"I enjoy exercising ...</td>\n      <td>gpt-4o-2024-05-13</td>\n      <td>111</td>\n      <td>20</td>\n      <td>chat.completion</td>\n      <td>111</td>\n    </tr>\n  </tbody>\n</table>\n</div>"
     },
     "execution_count": 30,
     "metadata": {},
     "output_type": "execute_result"
    }
   ],
   "source": [
    "# this call creates a new dataframe with the parallel corpus, also saved as a csv file\n",
    "# gpt-4o is used to create the parallel corpus\n",
    "#df_chats_parallel = cp.create_parallel_corpus(df_chats_processed,wave_id)\n",
    "#df_chats_parallel\n",
    "\n",
    "log_file = 'data/chat/output/w0_parallel_data.csv'\n",
    "df_chats_parallel = pd.read_csv(log_file)\n",
    "df_chats_parallel.head(3)\n",
    "\n"
   ]
  },
  {
   "cell_type": "code",
   "outputs": [
    {
     "name": "stdout",
     "output_type": "stream",
     "text": [
      "wronglyParsed:  0\n"
     ]
    },
    {
     "data": {
      "text/plain": "   Unnamed: 0  messageID                 timestamp  \\\n0           0          0  2024-06-27T08:18:15.707Z   \n1           1          1  2024-06-27T08:18:26.161Z   \n2           2          2  2024-06-27T08:18:38.085Z   \n\n                                        original  \\\n0                       What sports do you like?   \n1                 What sports do you like to do?   \n2  I like doing some gym, and taking long walks.   \n\n                                              output              model  \\\n0  {\\n  \"rewrittenSentence\": \"Which sports do you...  gpt-4o-2024-05-13   \n1  {\\n    \"rewrittenSentence\": \"Which sports do y...  gpt-4o-2024-05-13   \n2  {\\n  \"rewrittenSentence\": \"I enjoy exercising ...  gpt-4o-2024-05-13   \n\n   prompt_tokens  completion_tokens           object  promptID  \\\n0            106                 15  chat.completion       111   \n1            108                 15  chat.completion       111   \n2            111                 20  chat.completion       111   \n\n                                           rewritten  \n0                          Which sports do you like?  \n1                         Which sports do you enjoy?  \n2  I enjoy exercising at the gym and taking long ...  ",
      "text/html": "<div>\n<style scoped>\n    .dataframe tbody tr th:only-of-type {\n        vertical-align: middle;\n    }\n\n    .dataframe tbody tr th {\n        vertical-align: top;\n    }\n\n    .dataframe thead th {\n        text-align: right;\n    }\n</style>\n<table border=\"1\" class=\"dataframe\">\n  <thead>\n    <tr style=\"text-align: right;\">\n      <th></th>\n      <th>Unnamed: 0</th>\n      <th>messageID</th>\n      <th>timestamp</th>\n      <th>original</th>\n      <th>output</th>\n      <th>model</th>\n      <th>prompt_tokens</th>\n      <th>completion_tokens</th>\n      <th>object</th>\n      <th>promptID</th>\n      <th>rewritten</th>\n    </tr>\n  </thead>\n  <tbody>\n    <tr>\n      <th>0</th>\n      <td>0</td>\n      <td>0</td>\n      <td>2024-06-27T08:18:15.707Z</td>\n      <td>What sports do you like?</td>\n      <td>{\\n  \"rewrittenSentence\": \"Which sports do you...</td>\n      <td>gpt-4o-2024-05-13</td>\n      <td>106</td>\n      <td>15</td>\n      <td>chat.completion</td>\n      <td>111</td>\n      <td>Which sports do you like?</td>\n    </tr>\n    <tr>\n      <th>1</th>\n      <td>1</td>\n      <td>1</td>\n      <td>2024-06-27T08:18:26.161Z</td>\n      <td>What sports do you like to do?</td>\n      <td>{\\n    \"rewrittenSentence\": \"Which sports do y...</td>\n      <td>gpt-4o-2024-05-13</td>\n      <td>108</td>\n      <td>15</td>\n      <td>chat.completion</td>\n      <td>111</td>\n      <td>Which sports do you enjoy?</td>\n    </tr>\n    <tr>\n      <th>2</th>\n      <td>2</td>\n      <td>2</td>\n      <td>2024-06-27T08:18:38.085Z</td>\n      <td>I like doing some gym, and taking long walks.</td>\n      <td>{\\n  \"rewrittenSentence\": \"I enjoy exercising ...</td>\n      <td>gpt-4o-2024-05-13</td>\n      <td>111</td>\n      <td>20</td>\n      <td>chat.completion</td>\n      <td>111</td>\n      <td>I enjoy exercising at the gym and taking long ...</td>\n    </tr>\n  </tbody>\n</table>\n</div>"
     },
     "execution_count": 31,
     "metadata": {},
     "output_type": "execute_result"
    }
   ],
   "source": [
    "df_chats_parallel = cp.parse_parallel_data(df_chats_parallel)\n",
    "df_chats_parallel.head(3)"
   ],
   "metadata": {
    "collapsed": false,
    "ExecuteTime": {
     "end_time": "2024-09-03T12:12:31.947664Z",
     "start_time": "2024-09-03T12:12:31.833830Z"
    }
   },
   "execution_count": 31
  },
  {
   "cell_type": "code",
   "execution_count": 32,
   "metadata": {
    "ExecuteTime": {
     "end_time": "2024-09-03T12:12:32.734745Z",
     "start_time": "2024-09-03T12:12:32.659348Z"
    }
   },
   "outputs": [
    {
     "data": {
      "text/plain": "                    timestamp  \\\n0    2024-06-27T08:18:15.707Z   \n1    2024-06-27T08:18:26.161Z   \n2    2024-06-27T08:18:38.085Z   \n3    2024-06-27T08:18:51.835Z   \n4    2024-06-27T08:18:55.828Z   \n..                        ...   \n550  2024-06-28T09:55:20.068Z   \n551  2024-06-28T09:55:20.069Z   \n552  2024-06-28T09:55:20.069Z   \n553  2024-06-28T09:55:20.069Z   \n554  2024-06-28T09:55:20.069Z   \n\n                                             rewritten log_level  \\\n0                            Which sports do you like?    docker   \n1                           Which sports do you enjoy?    docker   \n2    I enjoy exercising at the gym and taking long ...    docker   \n3    I am not proficient at ball sports, but I stil...    docker   \n4    I like team sports such as football or basketb...    docker   \n..                                                 ...       ...   \n550              Believe in yourself. You are not bad.    docker   \n551              Believe in yourself. You are not bad.    docker   \n552              Believe in yourself. You are not bad.    docker   \n553         Believe in yourself. You are not that bad.    docker   \n554         Believe in yourself. You are not that bad.    docker   \n\n                                               message  \\\n0    {\"container_name\":\"/movez-chat-movez-chat-1\",\"...   \n1    {\"source\":\"stdout\",\"log\":\"{\\\"content\\\":\\\"What ...   \n2    {\"container_name\":\"/movez-chat-movez-chat-1\",\"...   \n3    {\"source\":\"stdout\",\"log\":\"{\\\"content\\\":\\\"I'm n...   \n4    {\"container_name\":\"/movez-chat-movez-chat-1\",\"...   \n..                                                 ...   \n550  {\"log\":\"{\\\"content\\\":\\\"belief in yourself! you...   \n551  {\"container_id\":\"8895013e2e9d3e00a535250c74749...   \n552  {\"container_id\":\"8895013e2e9d3e00a535250c74749...   \n553  {\"container_id\":\"8895013e2e9d3e00a535250c74749...   \n554  {\"container_id\":\"8895013e2e9d3e00a535250c74749...   \n\n                                               content        fromUserId  \\\n0                             What sports do you like?  7881bdd5596a3f86   \n1                       What sports do you like to do?  bf079e28c74b6404   \n2        I like doing some gym, and taking long walks.  f256ae32bf85de79   \n3    I'm not so good at ball sports, but I still en...  0475b4a5102ad017   \n4       I like team sports like football or basketball  7881bdd5596a3f86   \n..                                                 ...               ...   \n550       belief in yourself! your are not that bad!!!  0d526f8eb7177c76   \n551       belief in yourself! your are not that bad!!!  0d526f8eb7177c76   \n552       belief in yourself! your are not that bad!!!  0d526f8eb7177c76   \n553       belief in yourself! your are not that bad!!!  0d526f8eb7177c76   \n554       belief in yourself! your are not that bad!!!  0d526f8eb7177c76   \n\n             toUserId sessionId  word_count  messageID  \n0    f256ae32bf85de79      BU04           5          1  \n1    0475b4a5102ad017      BU01           7          1  \n2    7881bdd5596a3f86      BU03           9          1  \n3    bf079e28c74b6404      BU02          12          2  \n4    f256ae32bf85de79      BU04           8          2  \n..                ...       ...         ...        ...  \n550  9b658ac45526e7be      BU08           8        113  \n551  4ed7d8e521bef3cd      BU08           8        114  \n552  0a88167b60546b3a      BU08           8        115  \n553  4ed7d8e521bef3cd      BU08           8        114  \n554  0a88167b60546b3a      BU08           8        115  \n\n[555 rows x 10 columns]",
      "text/html": "<div>\n<style scoped>\n    .dataframe tbody tr th:only-of-type {\n        vertical-align: middle;\n    }\n\n    .dataframe tbody tr th {\n        vertical-align: top;\n    }\n\n    .dataframe thead th {\n        text-align: right;\n    }\n</style>\n<table border=\"1\" class=\"dataframe\">\n  <thead>\n    <tr style=\"text-align: right;\">\n      <th></th>\n      <th>timestamp</th>\n      <th>rewritten</th>\n      <th>log_level</th>\n      <th>message</th>\n      <th>content</th>\n      <th>fromUserId</th>\n      <th>toUserId</th>\n      <th>sessionId</th>\n      <th>word_count</th>\n      <th>messageID</th>\n    </tr>\n  </thead>\n  <tbody>\n    <tr>\n      <th>0</th>\n      <td>2024-06-27T08:18:15.707Z</td>\n      <td>Which sports do you like?</td>\n      <td>docker</td>\n      <td>{\"container_name\":\"/movez-chat-movez-chat-1\",\"...</td>\n      <td>What sports do you like?</td>\n      <td>7881bdd5596a3f86</td>\n      <td>f256ae32bf85de79</td>\n      <td>BU04</td>\n      <td>5</td>\n      <td>1</td>\n    </tr>\n    <tr>\n      <th>1</th>\n      <td>2024-06-27T08:18:26.161Z</td>\n      <td>Which sports do you enjoy?</td>\n      <td>docker</td>\n      <td>{\"source\":\"stdout\",\"log\":\"{\\\"content\\\":\\\"What ...</td>\n      <td>What sports do you like to do?</td>\n      <td>bf079e28c74b6404</td>\n      <td>0475b4a5102ad017</td>\n      <td>BU01</td>\n      <td>7</td>\n      <td>1</td>\n    </tr>\n    <tr>\n      <th>2</th>\n      <td>2024-06-27T08:18:38.085Z</td>\n      <td>I enjoy exercising at the gym and taking long ...</td>\n      <td>docker</td>\n      <td>{\"container_name\":\"/movez-chat-movez-chat-1\",\"...</td>\n      <td>I like doing some gym, and taking long walks.</td>\n      <td>f256ae32bf85de79</td>\n      <td>7881bdd5596a3f86</td>\n      <td>BU03</td>\n      <td>9</td>\n      <td>1</td>\n    </tr>\n    <tr>\n      <th>3</th>\n      <td>2024-06-27T08:18:51.835Z</td>\n      <td>I am not proficient at ball sports, but I stil...</td>\n      <td>docker</td>\n      <td>{\"source\":\"stdout\",\"log\":\"{\\\"content\\\":\\\"I'm n...</td>\n      <td>I'm not so good at ball sports, but I still en...</td>\n      <td>0475b4a5102ad017</td>\n      <td>bf079e28c74b6404</td>\n      <td>BU02</td>\n      <td>12</td>\n      <td>2</td>\n    </tr>\n    <tr>\n      <th>4</th>\n      <td>2024-06-27T08:18:55.828Z</td>\n      <td>I like team sports such as football or basketb...</td>\n      <td>docker</td>\n      <td>{\"container_name\":\"/movez-chat-movez-chat-1\",\"...</td>\n      <td>I like team sports like football or basketball</td>\n      <td>7881bdd5596a3f86</td>\n      <td>f256ae32bf85de79</td>\n      <td>BU04</td>\n      <td>8</td>\n      <td>2</td>\n    </tr>\n    <tr>\n      <th>...</th>\n      <td>...</td>\n      <td>...</td>\n      <td>...</td>\n      <td>...</td>\n      <td>...</td>\n      <td>...</td>\n      <td>...</td>\n      <td>...</td>\n      <td>...</td>\n      <td>...</td>\n    </tr>\n    <tr>\n      <th>550</th>\n      <td>2024-06-28T09:55:20.068Z</td>\n      <td>Believe in yourself. You are not bad.</td>\n      <td>docker</td>\n      <td>{\"log\":\"{\\\"content\\\":\\\"belief in yourself! you...</td>\n      <td>belief in yourself! your are not that bad!!!</td>\n      <td>0d526f8eb7177c76</td>\n      <td>9b658ac45526e7be</td>\n      <td>BU08</td>\n      <td>8</td>\n      <td>113</td>\n    </tr>\n    <tr>\n      <th>551</th>\n      <td>2024-06-28T09:55:20.069Z</td>\n      <td>Believe in yourself. You are not bad.</td>\n      <td>docker</td>\n      <td>{\"container_id\":\"8895013e2e9d3e00a535250c74749...</td>\n      <td>belief in yourself! your are not that bad!!!</td>\n      <td>0d526f8eb7177c76</td>\n      <td>4ed7d8e521bef3cd</td>\n      <td>BU08</td>\n      <td>8</td>\n      <td>114</td>\n    </tr>\n    <tr>\n      <th>552</th>\n      <td>2024-06-28T09:55:20.069Z</td>\n      <td>Believe in yourself. You are not bad.</td>\n      <td>docker</td>\n      <td>{\"container_id\":\"8895013e2e9d3e00a535250c74749...</td>\n      <td>belief in yourself! your are not that bad!!!</td>\n      <td>0d526f8eb7177c76</td>\n      <td>0a88167b60546b3a</td>\n      <td>BU08</td>\n      <td>8</td>\n      <td>115</td>\n    </tr>\n    <tr>\n      <th>553</th>\n      <td>2024-06-28T09:55:20.069Z</td>\n      <td>Believe in yourself. You are not that bad.</td>\n      <td>docker</td>\n      <td>{\"container_id\":\"8895013e2e9d3e00a535250c74749...</td>\n      <td>belief in yourself! your are not that bad!!!</td>\n      <td>0d526f8eb7177c76</td>\n      <td>4ed7d8e521bef3cd</td>\n      <td>BU08</td>\n      <td>8</td>\n      <td>114</td>\n    </tr>\n    <tr>\n      <th>554</th>\n      <td>2024-06-28T09:55:20.069Z</td>\n      <td>Believe in yourself. You are not that bad.</td>\n      <td>docker</td>\n      <td>{\"container_id\":\"8895013e2e9d3e00a535250c74749...</td>\n      <td>belief in yourself! your are not that bad!!!</td>\n      <td>0d526f8eb7177c76</td>\n      <td>0a88167b60546b3a</td>\n      <td>BU08</td>\n      <td>8</td>\n      <td>115</td>\n    </tr>\n  </tbody>\n</table>\n<p>555 rows × 10 columns</p>\n</div>"
     },
     "execution_count": 32,
     "metadata": {},
     "output_type": "execute_result"
    }
   ],
   "source": [
    "# merging the parallel data with the original chat data\n",
    "df_chat_final = cp.merge_parallel_data(df_chats_processed,df_chats_parallel)\n",
    "df_chat_final"
   ]
  },
  {
   "cell_type": "code",
   "outputs": [],
   "source": [
    "df_chat_final.to_csv('data/chat/output/w'+str(wave_id)+'_parallel_chat_final.csv')\n"
   ],
   "metadata": {
    "collapsed": false,
    "ExecuteTime": {
     "end_time": "2024-09-03T12:12:59.870673Z",
     "start_time": "2024-09-03T12:12:59.802128Z"
    }
   },
   "execution_count": 33
  },
  {
   "cell_type": "markdown",
   "metadata": {},
   "source": [
    "## Generating K-Shots data "
   ]
  },
  {
   "cell_type": "markdown",
   "source": [
    "### all data"
   ],
   "metadata": {
    "collapsed": false
   }
  },
  {
   "cell_type": "code",
   "outputs": [],
   "source": [
    "# remove duplicates in df\n",
    "\n",
    "df_unique = df_chat_final.drop_duplicates(subset='content')\n",
    "\n",
    "df_unique.to_csv('data/chat/output/w'+str(wave_id)+'_all_data.csv')\n"
   ],
   "metadata": {
    "collapsed": false,
    "ExecuteTime": {
     "end_time": "2024-09-05T11:57:00.911598Z",
     "start_time": "2024-09-05T11:57:00.579560Z"
    }
   },
   "execution_count": 47
  },
  {
   "cell_type": "markdown",
   "source": [
    "### Generating 5-Shots data - this is input to the model"
   ],
   "metadata": {
    "collapsed": false
   }
  },
  {
   "cell_type": "code",
   "execution_count": 43,
   "metadata": {
    "ExecuteTime": {
     "end_time": "2024-09-03T16:28:17.001119Z",
     "start_time": "2024-09-03T16:28:16.957583Z"
    }
   },
   "outputs": [],
   "source": [
    "df_five_shot = cp.get_five_shots(df_unique,wave_id)"
   ]
  },
  {
   "cell_type": "code",
   "execution_count": 48,
   "metadata": {
    "ExecuteTime": {
     "end_time": "2024-09-05T11:57:28.868873Z",
     "start_time": "2024-09-05T11:57:28.810564Z"
    }
   },
   "outputs": [
    {
     "data": {
      "text/plain": "  username  messageID                 timestamp  \\\n0     BU01        128  2024-06-27T08:49:02.434Z   \n1     BU01         27  2024-06-27T08:29:00.523Z   \n2     BU01        134  2024-06-27T08:49:19.576Z   \n3     BU01         28  2024-06-27T08:29:33.457Z   \n4     BU01         38  2024-06-27T08:33:16.263Z   \n\n                                            original  \\\n0             But let's return to the matter at hand   \n1           What do you like about playing football?   \n2                      But I am not convinced on Dog   \n3                   Do you also like to watch games?   \n4  Sounds difficult to learn at this age I don't ...   \n\n                                      neutral  \n0        Let us return to the matter at hand.  \n1    What do you like about playing football?  \n2           I am not convinced about the dog.  \n3                 Do you like to watch games?  \n4  It seems challenging to learn at this age.  ",
      "text/html": "<div>\n<style scoped>\n    .dataframe tbody tr th:only-of-type {\n        vertical-align: middle;\n    }\n\n    .dataframe tbody tr th {\n        vertical-align: top;\n    }\n\n    .dataframe thead th {\n        text-align: right;\n    }\n</style>\n<table border=\"1\" class=\"dataframe\">\n  <thead>\n    <tr style=\"text-align: right;\">\n      <th></th>\n      <th>username</th>\n      <th>messageID</th>\n      <th>timestamp</th>\n      <th>original</th>\n      <th>neutral</th>\n    </tr>\n  </thead>\n  <tbody>\n    <tr>\n      <th>0</th>\n      <td>BU01</td>\n      <td>128</td>\n      <td>2024-06-27T08:49:02.434Z</td>\n      <td>But let's return to the matter at hand</td>\n      <td>Let us return to the matter at hand.</td>\n    </tr>\n    <tr>\n      <th>1</th>\n      <td>BU01</td>\n      <td>27</td>\n      <td>2024-06-27T08:29:00.523Z</td>\n      <td>What do you like about playing football?</td>\n      <td>What do you like about playing football?</td>\n    </tr>\n    <tr>\n      <th>2</th>\n      <td>BU01</td>\n      <td>134</td>\n      <td>2024-06-27T08:49:19.576Z</td>\n      <td>But I am not convinced on Dog</td>\n      <td>I am not convinced about the dog.</td>\n    </tr>\n    <tr>\n      <th>3</th>\n      <td>BU01</td>\n      <td>28</td>\n      <td>2024-06-27T08:29:33.457Z</td>\n      <td>Do you also like to watch games?</td>\n      <td>Do you like to watch games?</td>\n    </tr>\n    <tr>\n      <th>4</th>\n      <td>BU01</td>\n      <td>38</td>\n      <td>2024-06-27T08:33:16.263Z</td>\n      <td>Sounds difficult to learn at this age I don't ...</td>\n      <td>It seems challenging to learn at this age.</td>\n    </tr>\n  </tbody>\n</table>\n</div>"
     },
     "execution_count": 48,
     "metadata": {},
     "output_type": "execute_result"
    }
   ],
   "source": [
    "df_five_shot.head(5)"
   ]
  },
  {
   "cell_type": "markdown",
   "source": [
    "### Generating 10-Shots data - this is input to the model\n"
   ],
   "metadata": {
    "collapsed": false
   }
  },
  {
   "cell_type": "code",
   "outputs": [],
   "source": [
    "df_ten_shot = cp.get_ten_shots(df_unique,wave_id)\n"
   ],
   "metadata": {
    "collapsed": false,
    "ExecuteTime": {
     "end_time": "2024-09-05T11:57:31.268844Z",
     "start_time": "2024-09-05T11:57:31.204570Z"
    }
   },
   "execution_count": 49
  },
  {
   "cell_type": "markdown",
   "source": [
    "### Generating 20-Shots data - this is input to the model\n"
   ],
   "metadata": {
    "collapsed": false
   }
  },
  {
   "cell_type": "code",
   "outputs": [],
   "source": [
    "df_twenty_shot = cp.get_twenty_shots(df_unique,wave_id)\n"
   ],
   "metadata": {
    "collapsed": false,
    "ExecuteTime": {
     "end_time": "2024-09-05T11:57:33.162208Z",
     "start_time": "2024-09-05T11:57:33.117033Z"
    }
   },
   "execution_count": 50
  },
  {
   "cell_type": "code",
   "outputs": [],
   "source": [
    "df_all_shot = cp.get_all_shots(df_unique, wave_id)"
   ],
   "metadata": {
    "collapsed": false,
    "ExecuteTime": {
     "end_time": "2024-09-05T12:03:58.326307Z",
     "start_time": "2024-09-05T12:03:58.119078Z"
    }
   },
   "execution_count": 51
  },
  {
   "cell_type": "code",
   "outputs": [],
   "source": [],
   "metadata": {
    "collapsed": false
   }
  }
 ],
 "metadata": {
  "kernelspec": {
   "display_name": "llm-evaluate",
   "language": "python",
   "name": "python3"
  },
  "language_info": {
   "codemirror_mode": {
    "name": "ipython",
    "version": 3
   },
   "file_extension": ".py",
   "mimetype": "text/x-python",
   "name": "python",
   "nbconvert_exporter": "python",
   "pygments_lexer": "ipython3",
   "version": "3.11.7"
  }
 },
 "nbformat": 4,
 "nbformat_minor": 2
}
